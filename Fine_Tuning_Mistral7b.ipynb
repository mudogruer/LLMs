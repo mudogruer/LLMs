{
  "metadata": {
    "kernelspec": {
      "language": "python",
      "display_name": "Python 3",
      "name": "python3"
    },
    "language_info": {
      "name": "python",
      "version": "3.10.12",
      "mimetype": "text/x-python",
      "codemirror_mode": {
        "name": "ipython",
        "version": 3
      },
      "pygments_lexer": "ipython3",
      "nbconvert_exporter": "python",
      "file_extension": ".py"
    },
    "kaggle": {
      "accelerator": "nvidiaTeslaT4",
      "dataSources": [],
      "dockerImageVersionId": 30588,
      "isInternetEnabled": true,
      "language": "python",
      "sourceType": "notebook",
      "isGpuEnabled": true
    },
    "colab": {
      "name": "Fine-Tuning-Mistral",
      "provenance": [],
      "include_colab_link": true
    }
  },
  "nbformat_minor": 0,
  "nbformat": 4,
  "cells": [
    {
      "cell_type": "markdown",
      "metadata": {
        "id": "view-in-github",
        "colab_type": "text"
      },
      "source": [
        "<a href=\"https://colab.research.google.com/github/mudogruer/LLMs/blob/main/Fine_Tuning_Mistral7b.ipynb\" target=\"_parent\"><img src=\"https://colab.research.google.com/assets/colab-badge.svg\" alt=\"Open In Colab\"/></a>"
      ]
    },
    {
      "cell_type": "markdown",
      "source": [
        "# Fine-Tuning Mistral"
      ],
      "metadata": {
        "id": "IeTrAWZBM93e"
      }
    },
    {
      "cell_type": "code",
      "source": [
        "!pip install -q -U transformers bitsandbytes peft datasets accelerate trl"
      ],
      "metadata": {
        "_uuid": "8f2839f25d086af736a60e9eeb907d3b93b6e0e5",
        "_cell_guid": "b1076dfc-b9ad-4769-8c92-a6c4dae69d19",
        "execution": {
          "iopub.status.busy": "2023-12-01T08:11:29.751726Z",
          "iopub.execute_input": "2023-12-01T08:11:29.752024Z",
          "iopub.status.idle": "2023-12-01T08:12:01.743112Z",
          "shell.execute_reply.started": "2023-12-01T08:11:29.751981Z",
          "shell.execute_reply": "2023-12-01T08:12:01.741813Z"
        },
        "trusted": true,
        "id": "cc-1v1o0M93k"
      },
      "execution_count": null,
      "outputs": []
    },
    {
      "cell_type": "markdown",
      "source": [
        "# Loading Tokenizer"
      ],
      "metadata": {
        "id": "OHJgTHcpM93m"
      }
    },
    {
      "cell_type": "code",
      "source": [
        "from transformers import AutoTokenizer\n",
        "\n",
        "base_model = \"mistralai/Mistral-7B-v0.1\"\n",
        "\n",
        "tokenizer = AutoTokenizer.from_pretrained(\n",
        "    base_model,\n",
        "    padding_side = \"right\",\n",
        "    add_eos_token = True,\n",
        ")\n",
        "tokenizer.pad_token = tokenizer.eos_token\n",
        "tokenizer.add_bos_token, tokenizer.add_eos_token"
      ],
      "metadata": {
        "execution": {
          "iopub.status.busy": "2023-12-01T08:12:01.745395Z",
          "iopub.execute_input": "2023-12-01T08:12:01.745717Z",
          "iopub.status.idle": "2023-12-01T08:12:08.282643Z",
          "shell.execute_reply.started": "2023-12-01T08:12:01.745684Z",
          "shell.execute_reply": "2023-12-01T08:12:08.2815Z"
        },
        "trusted": true,
        "id": "fBrq4EgxM93n"
      },
      "execution_count": null,
      "outputs": []
    },
    {
      "cell_type": "code",
      "source": [
        "tokenizer"
      ],
      "metadata": {
        "execution": {
          "iopub.status.busy": "2023-12-01T08:12:08.284135Z",
          "iopub.execute_input": "2023-12-01T08:12:08.28499Z",
          "iopub.status.idle": "2023-12-01T08:12:08.292272Z",
          "shell.execute_reply.started": "2023-12-01T08:12:08.284937Z",
          "shell.execute_reply": "2023-12-01T08:12:08.291268Z"
        },
        "trusted": true,
        "id": "uSCdgkU6M93p"
      },
      "execution_count": null,
      "outputs": []
    },
    {
      "cell_type": "markdown",
      "source": [
        "# Loading the Model"
      ],
      "metadata": {
        "id": "YkkQ8UaIM93q"
      }
    },
    {
      "cell_type": "code",
      "source": [
        "import torch\n",
        "from transformers import BitsAndBytesConfig\n",
        "\n",
        "bnb_config = BitsAndBytesConfig(\n",
        "    load_in_4bit=True,\n",
        "    bnb_4bit_quant_type=\"nf4\",\n",
        "    bnb_4bit_use_double_quant=False,\n",
        "    bnb_4bit_compute_dtype=torch.bfloat16\n",
        ")"
      ],
      "metadata": {
        "execution": {
          "iopub.status.busy": "2023-12-01T08:12:08.29576Z",
          "iopub.execute_input": "2023-12-01T08:12:08.296434Z",
          "iopub.status.idle": "2023-12-01T08:12:08.309844Z",
          "shell.execute_reply.started": "2023-12-01T08:12:08.296395Z",
          "shell.execute_reply": "2023-12-01T08:12:08.309004Z"
        },
        "trusted": true,
        "id": "y8IXYIgjM93r"
      },
      "execution_count": null,
      "outputs": []
    },
    {
      "cell_type": "code",
      "source": [
        "from transformers import AutoModelForCausalLM\n",
        "\n",
        "model = AutoModelForCausalLM.from_pretrained(\n",
        "    base_model,\n",
        "    load_in_4bit=True,\n",
        "    quantization_config=bnb_config,\n",
        "    torch_dtype=torch.bfloat16,\n",
        "    device_map=\"auto\",\n",
        ")"
      ],
      "metadata": {
        "execution": {
          "iopub.status.busy": "2023-12-01T08:12:08.310994Z",
          "iopub.execute_input": "2023-12-01T08:12:08.311564Z",
          "iopub.status.idle": "2023-12-01T08:14:25.445988Z",
          "shell.execute_reply.started": "2023-12-01T08:12:08.311538Z",
          "shell.execute_reply": "2023-12-01T08:14:25.444856Z"
        },
        "trusted": true,
        "id": "sJrfEeq2M93s"
      },
      "execution_count": null,
      "outputs": []
    },
    {
      "cell_type": "markdown",
      "source": [
        "# Loading the Dataset"
      ],
      "metadata": {
        "id": "7wHy3GvZM93u"
      }
    },
    {
      "cell_type": "code",
      "source": [
        "from datasets import load_dataset\n",
        "\n",
        "dataset_name = \"databricks/databricks-dolly-15k\"\n",
        "\n",
        "train_dataset = load_dataset(dataset_name, split=\"train[0:800]\")\n",
        "eval_dataset = load_dataset(dataset_name, split=\"train[800:1000]\")"
      ],
      "metadata": {
        "execution": {
          "iopub.status.busy": "2023-12-01T08:14:25.447658Z",
          "iopub.execute_input": "2023-12-01T08:14:25.448609Z",
          "iopub.status.idle": "2023-12-01T08:14:29.397279Z",
          "shell.execute_reply.started": "2023-12-01T08:14:25.448569Z",
          "shell.execute_reply": "2023-12-01T08:14:29.396497Z"
        },
        "trusted": true,
        "id": "5FkDW20tM93w"
      },
      "execution_count": null,
      "outputs": []
    },
    {
      "cell_type": "markdown",
      "source": [
        "# Understanding the Model"
      ],
      "metadata": {
        "id": "w3ASEbsAM93x"
      }
    },
    {
      "cell_type": "code",
      "source": [
        "train_dataset"
      ],
      "metadata": {
        "execution": {
          "iopub.status.busy": "2023-12-01T08:14:29.398526Z",
          "iopub.execute_input": "2023-12-01T08:14:29.399028Z",
          "iopub.status.idle": "2023-12-01T08:14:29.405317Z",
          "shell.execute_reply.started": "2023-12-01T08:14:29.398998Z",
          "shell.execute_reply": "2023-12-01T08:14:29.404155Z"
        },
        "trusted": true,
        "id": "yUS71Ys1M93y"
      },
      "execution_count": null,
      "outputs": []
    },
    {
      "cell_type": "code",
      "source": [
        "train_dataset.to_pandas()"
      ],
      "metadata": {
        "execution": {
          "iopub.status.busy": "2023-12-01T08:14:29.406523Z",
          "iopub.execute_input": "2023-12-01T08:14:29.406797Z",
          "iopub.status.idle": "2023-12-01T08:14:29.484381Z",
          "shell.execute_reply.started": "2023-12-01T08:14:29.406774Z",
          "shell.execute_reply": "2023-12-01T08:14:29.483409Z"
        },
        "trusted": true,
        "id": "unakSgquM93z"
      },
      "execution_count": null,
      "outputs": []
    },
    {
      "cell_type": "code",
      "source": [
        "train_dataset.to_pandas().dtypes"
      ],
      "metadata": {
        "execution": {
          "iopub.status.busy": "2023-12-01T08:14:29.485663Z",
          "iopub.execute_input": "2023-12-01T08:14:29.486015Z",
          "iopub.status.idle": "2023-12-01T08:14:29.49719Z",
          "shell.execute_reply.started": "2023-12-01T08:14:29.485983Z",
          "shell.execute_reply": "2023-12-01T08:14:29.496187Z"
        },
        "trusted": true,
        "id": "4ie2197hM93z"
      },
      "execution_count": null,
      "outputs": []
    },
    {
      "cell_type": "code",
      "source": [
        "train_dataset.to_pandas().value_counts(\"category\")"
      ],
      "metadata": {
        "execution": {
          "iopub.status.busy": "2023-12-01T08:14:29.500947Z",
          "iopub.execute_input": "2023-12-01T08:14:29.501254Z",
          "iopub.status.idle": "2023-12-01T08:14:29.513953Z",
          "shell.execute_reply.started": "2023-12-01T08:14:29.50123Z",
          "shell.execute_reply": "2023-12-01T08:14:29.513021Z"
        },
        "trusted": true,
        "id": "J2c6hO6bM93z"
      },
      "execution_count": null,
      "outputs": []
    },
    {
      "cell_type": "markdown",
      "source": [
        "# Generating the Prompt Format"
      ],
      "metadata": {
        "id": "ShOjtO88M930"
      }
    },
    {
      "cell_type": "code",
      "source": [
        "def generate_prompt(sample):\n",
        "    full_prompt =f\"\"\"<s>[INST]{sample['instruction']}\n",
        "    {f\"Here is some context: {sample['context']}\" if len(sample[\"context\"]) > 0 else None}\n",
        "    [/INST] {sample['response']}</s>\"\"\"\n",
        "    return {\"text\": full_prompt}"
      ],
      "metadata": {
        "execution": {
          "iopub.status.busy": "2023-12-01T08:14:29.514998Z",
          "iopub.execute_input": "2023-12-01T08:14:29.515285Z",
          "iopub.status.idle": "2023-12-01T08:14:29.520486Z",
          "shell.execute_reply.started": "2023-12-01T08:14:29.515259Z",
          "shell.execute_reply": "2023-12-01T08:14:29.519537Z"
        },
        "trusted": true,
        "id": "D_2U-HwqM930"
      },
      "execution_count": null,
      "outputs": []
    },
    {
      "cell_type": "code",
      "source": [
        "train_dataset[0]"
      ],
      "metadata": {
        "execution": {
          "iopub.status.busy": "2023-12-01T08:14:29.521469Z",
          "iopub.execute_input": "2023-12-01T08:14:29.521714Z",
          "iopub.status.idle": "2023-12-01T08:14:29.5333Z",
          "shell.execute_reply.started": "2023-12-01T08:14:29.521693Z",
          "shell.execute_reply": "2023-12-01T08:14:29.532361Z"
        },
        "trusted": true,
        "id": "nZv-_b_9M932"
      },
      "execution_count": null,
      "outputs": []
    },
    {
      "cell_type": "code",
      "source": [
        "print(generate_prompt(train_dataset[0]))"
      ],
      "metadata": {
        "execution": {
          "iopub.status.busy": "2023-12-01T08:14:29.534631Z",
          "iopub.execute_input": "2023-12-01T08:14:29.534963Z",
          "iopub.status.idle": "2023-12-01T08:14:29.544263Z",
          "shell.execute_reply.started": "2023-12-01T08:14:29.534931Z",
          "shell.execute_reply": "2023-12-01T08:14:29.543463Z"
        },
        "trusted": true,
        "id": "wNgac7h1M933"
      },
      "execution_count": null,
      "outputs": []
    },
    {
      "cell_type": "code",
      "source": [
        "generated_train_dataset = train_dataset.map(\n",
        "    generate_prompt, remove_columns=list(train_dataset.features))\n",
        "generated_val_dataset = eval_dataset.map(\n",
        "    generate_prompt, remove_columns=list(train_dataset.features))"
      ],
      "metadata": {
        "execution": {
          "iopub.status.busy": "2023-12-01T08:14:29.545455Z",
          "iopub.execute_input": "2023-12-01T08:14:29.545857Z",
          "iopub.status.idle": "2023-12-01T08:14:29.681922Z",
          "shell.execute_reply.started": "2023-12-01T08:14:29.545827Z",
          "shell.execute_reply": "2023-12-01T08:14:29.680959Z"
        },
        "trusted": true,
        "id": "WRq71W0QM933"
      },
      "execution_count": null,
      "outputs": []
    },
    {
      "cell_type": "code",
      "source": [
        "generated_train_dataset"
      ],
      "metadata": {
        "execution": {
          "iopub.status.busy": "2023-12-01T08:14:29.682975Z",
          "iopub.execute_input": "2023-12-01T08:14:29.683272Z",
          "iopub.status.idle": "2023-12-01T08:14:29.689622Z",
          "shell.execute_reply.started": "2023-12-01T08:14:29.683243Z",
          "shell.execute_reply": "2023-12-01T08:14:29.688699Z"
        },
        "trusted": true,
        "id": "FL8j8XxFM934"
      },
      "execution_count": null,
      "outputs": []
    },
    {
      "cell_type": "code",
      "source": [
        "generated_train_dataset[5][\"text\"]"
      ],
      "metadata": {
        "execution": {
          "iopub.status.busy": "2023-12-01T08:14:29.690865Z",
          "iopub.execute_input": "2023-12-01T08:14:29.691161Z",
          "iopub.status.idle": "2023-12-01T08:14:29.702697Z",
          "shell.execute_reply.started": "2023-12-01T08:14:29.691135Z",
          "shell.execute_reply": "2023-12-01T08:14:29.701756Z"
        },
        "trusted": true,
        "id": "4Ld8NVjGM934"
      },
      "execution_count": null,
      "outputs": []
    },
    {
      "cell_type": "code",
      "source": [
        "tokenizer(generated_train_dataset[5][\"text\"])"
      ],
      "metadata": {
        "execution": {
          "iopub.status.busy": "2023-12-01T08:14:29.703651Z",
          "iopub.execute_input": "2023-12-01T08:14:29.703918Z",
          "iopub.status.idle": "2023-12-01T08:14:29.725195Z",
          "shell.execute_reply.started": "2023-12-01T08:14:29.703896Z",
          "shell.execute_reply": "2023-12-01T08:14:29.724501Z"
        },
        "trusted": true,
        "id": "K6C9DnZtM935"
      },
      "execution_count": null,
      "outputs": []
    },
    {
      "cell_type": "markdown",
      "source": [
        "# LoRA Configuration"
      ],
      "metadata": {
        "id": "W0ujy36WM935"
      }
    },
    {
      "cell_type": "code",
      "source": [
        "from peft import prepare_model_for_kbit_training\n",
        "\n",
        "model.gradient_checkpointing_enable()\n",
        "\n",
        "model = prepare_model_for_kbit_training(model)"
      ],
      "metadata": {
        "execution": {
          "iopub.status.busy": "2023-12-01T08:14:29.726301Z",
          "iopub.execute_input": "2023-12-01T08:14:29.726976Z",
          "iopub.status.idle": "2023-12-01T08:14:29.787855Z",
          "shell.execute_reply.started": "2023-12-01T08:14:29.726944Z",
          "shell.execute_reply": "2023-12-01T08:14:29.787163Z"
        },
        "trusted": true,
        "id": "p2djAuF9M935"
      },
      "execution_count": null,
      "outputs": []
    },
    {
      "cell_type": "code",
      "source": [
        "def print_trainable_parameters(model):\n",
        "    trainable_params = 0\n",
        "    all_param = 0\n",
        "    for _, param in model.named_parameters():\n",
        "        all_param += param.numel()\n",
        "        if param.requires_grad:\n",
        "            trainable_params += param.numel()\n",
        "    print(\n",
        "        f\"trainable params: {trainable_params} || all params: {all_param} || trainable%: {100 * trainable_params / all_param}\"\n",
        "    )"
      ],
      "metadata": {
        "execution": {
          "iopub.status.busy": "2023-12-01T08:14:29.788845Z",
          "iopub.execute_input": "2023-12-01T08:14:29.78919Z",
          "iopub.status.idle": "2023-12-01T08:14:29.794436Z",
          "shell.execute_reply.started": "2023-12-01T08:14:29.78916Z",
          "shell.execute_reply": "2023-12-01T08:14:29.793365Z"
        },
        "trusted": true,
        "id": "nncFgjpMM936"
      },
      "execution_count": null,
      "outputs": []
    },
    {
      "cell_type": "code",
      "source": [
        "from peft import LoraConfig, get_peft_model\n",
        "\n",
        "lora_config = LoraConfig(\n",
        "    r=8,\n",
        "    lora_alpha=16,\n",
        "    target_modules=[\n",
        "        \"q_proj\",\n",
        "        \"k_proj\",\n",
        "        \"v_proj\",\n",
        "        \"o_proj\",\n",
        "        \"gate_proj\",\n",
        "        \"up_proj\",\n",
        "        \"down_proj\",\n",
        "        \"lm_head\",\n",
        "    ],\n",
        "    bias=\"none\",\n",
        "    lora_dropout=0.05,\n",
        "    task_type=\"CAUSAL_LM\",\n",
        ")"
      ],
      "metadata": {
        "execution": {
          "iopub.status.busy": "2023-12-01T08:14:29.795564Z",
          "iopub.execute_input": "2023-12-01T08:14:29.795836Z",
          "iopub.status.idle": "2023-12-01T08:14:29.808162Z",
          "shell.execute_reply.started": "2023-12-01T08:14:29.795814Z",
          "shell.execute_reply": "2023-12-01T08:14:29.807182Z"
        },
        "trusted": true,
        "id": "63Fuv0fcM937"
      },
      "execution_count": null,
      "outputs": []
    },
    {
      "cell_type": "code",
      "source": [
        "from peft import get_peft_model\n",
        "\n",
        "model = get_peft_model(model, lora_config)\n",
        "\n",
        "print_trainable_parameters(model)"
      ],
      "metadata": {
        "execution": {
          "iopub.status.busy": "2023-12-01T08:14:29.809375Z",
          "iopub.execute_input": "2023-12-01T08:14:29.809653Z",
          "iopub.status.idle": "2023-12-01T08:14:30.296727Z",
          "shell.execute_reply.started": "2023-12-01T08:14:29.809629Z",
          "shell.execute_reply": "2023-12-01T08:14:30.295697Z"
        },
        "trusted": true,
        "id": "USQkuf7lM937"
      },
      "execution_count": null,
      "outputs": []
    },
    {
      "cell_type": "code",
      "source": [
        "print(model)"
      ],
      "metadata": {
        "execution": {
          "iopub.status.busy": "2023-12-01T08:14:30.297894Z",
          "iopub.execute_input": "2023-12-01T08:14:30.298261Z",
          "iopub.status.idle": "2023-12-01T08:14:30.321394Z",
          "shell.execute_reply.started": "2023-12-01T08:14:30.298225Z",
          "shell.execute_reply": "2023-12-01T08:14:30.320194Z"
        },
        "trusted": true,
        "id": "JOwy_cdhM937"
      },
      "execution_count": null,
      "outputs": []
    },
    {
      "cell_type": "markdown",
      "source": [
        "# Model Training"
      ],
      "metadata": {
        "id": "gf4vSIqpM938"
      }
    },
    {
      "cell_type": "code",
      "source": [
        "from kaggle_secrets import UserSecretsClient\n",
        "user_secrets = UserSecretsClient()\n",
        "secret_value_0 = user_secrets.get_secret(\"HF\")\n",
        "\n",
        "!huggingface-cli login --token $secret_value_0"
      ],
      "metadata": {
        "execution": {
          "iopub.status.busy": "2023-12-01T08:14:30.323792Z",
          "iopub.execute_input": "2023-12-01T08:14:30.324124Z",
          "iopub.status.idle": "2023-12-01T08:14:32.370848Z",
          "shell.execute_reply.started": "2023-12-01T08:14:30.324087Z",
          "shell.execute_reply": "2023-12-01T08:14:32.369804Z"
        },
        "trusted": true,
        "id": "pPDAcbbpM93-"
      },
      "execution_count": null,
      "outputs": []
    },
    {
      "cell_type": "code",
      "source": [
        "from transformers import TrainingArguments\n",
        "\n",
        "training_arguments = TrainingArguments(\n",
        "    output_dir=\"./results\",\n",
        "    num_train_epochs=1,\n",
        "    per_device_train_batch_size=4,\n",
        "    gradient_accumulation_steps=1,\n",
        "    optim=\"paged_adamw_32bit\",\n",
        "    save_strategy=\"steps\",\n",
        "    save_steps=25,\n",
        "    logging_steps=25,\n",
        "    learning_rate=2e-4,\n",
        "    weight_decay=0.001,\n",
        "    max_steps=50,\n",
        "    evaluation_strategy=\"steps\",\n",
        "    eval_steps=25,\n",
        "    do_eval=True,\n",
        "    report_to=\"none\",\n",
        ")"
      ],
      "metadata": {
        "execution": {
          "iopub.status.busy": "2023-12-01T08:14:32.37271Z",
          "iopub.execute_input": "2023-12-01T08:14:32.373711Z",
          "iopub.status.idle": "2023-12-01T08:14:32.397572Z",
          "shell.execute_reply.started": "2023-12-01T08:14:32.373665Z",
          "shell.execute_reply": "2023-12-01T08:14:32.396663Z"
        },
        "trusted": true,
        "id": "pxv3WK6WM93-"
      },
      "execution_count": null,
      "outputs": []
    },
    {
      "cell_type": "code",
      "source": [
        "from trl import SFTTrainer\n",
        "\n",
        "# Setting sft parameters\n",
        "trainer = SFTTrainer(\n",
        "    model=model,\n",
        "    tokenizer=tokenizer,\n",
        "    args=training_arguments,\n",
        "    train_dataset=generated_train_dataset,\n",
        "    eval_dataset=generated_val_dataset,\n",
        "    peft_config=lora_config,\n",
        "    dataset_text_field=\"text\",\n",
        ")"
      ],
      "metadata": {
        "execution": {
          "iopub.status.busy": "2023-12-01T08:14:32.39861Z",
          "iopub.execute_input": "2023-12-01T08:14:32.398894Z",
          "iopub.status.idle": "2023-12-01T08:14:47.165171Z",
          "shell.execute_reply.started": "2023-12-01T08:14:32.398869Z",
          "shell.execute_reply": "2023-12-01T08:14:47.164098Z"
        },
        "trusted": true,
        "id": "bgk9LmzEM93_"
      },
      "execution_count": null,
      "outputs": []
    },
    {
      "cell_type": "code",
      "source": [
        "model.config.use_cache = False\n",
        "trainer.train()"
      ],
      "metadata": {
        "execution": {
          "iopub.status.busy": "2023-12-01T08:14:47.166572Z",
          "iopub.execute_input": "2023-12-01T08:14:47.166911Z",
          "iopub.status.idle": "2023-12-01T08:46:48.281915Z",
          "shell.execute_reply.started": "2023-12-01T08:14:47.166881Z",
          "shell.execute_reply": "2023-12-01T08:46:48.281044Z"
        },
        "trusted": true,
        "id": "jGljbBvdM93_"
      },
      "execution_count": null,
      "outputs": []
    },
    {
      "cell_type": "code",
      "source": [
        "my_finetuned_model = \"mistral-7b-dolly\"\n",
        "\n",
        "trainer.model.push_to_hub(my_finetuned_model)"
      ],
      "metadata": {
        "execution": {
          "iopub.status.busy": "2023-12-01T08:46:48.283122Z",
          "iopub.execute_input": "2023-12-01T08:46:48.283812Z",
          "iopub.status.idle": "2023-12-01T08:46:52.24431Z",
          "shell.execute_reply.started": "2023-12-01T08:46:48.283771Z",
          "shell.execute_reply": "2023-12-01T08:46:52.243289Z"
        },
        "trusted": true,
        "id": "mtmcl3QZM94A"
      },
      "execution_count": null,
      "outputs": []
    }
  ]
}