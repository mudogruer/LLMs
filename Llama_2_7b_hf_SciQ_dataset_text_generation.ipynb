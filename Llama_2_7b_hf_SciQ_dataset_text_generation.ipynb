{
  "metadata": {
    "kernelspec": {
      "language": "python",
      "display_name": "Python 3",
      "name": "python3"
    },
    "language_info": {
      "name": "python",
      "version": "3.10.13",
      "mimetype": "text/x-python",
      "codemirror_mode": {
        "name": "ipython",
        "version": 3
      },
      "pygments_lexer": "ipython3",
      "nbconvert_exporter": "python",
      "file_extension": ".py"
    },
    "kaggle": {
      "accelerator": "nvidiaTeslaT4",
      "dataSources": [],
      "dockerImageVersionId": 30648,
      "isInternetEnabled": true,
      "language": "python",
      "sourceType": "notebook",
      "isGpuEnabled": true
    },
    "colab": {
      "name": "Llama-2-7b-hf-SciQ-dataset-text-generation",
      "provenance": [],
      "include_colab_link": true
    }
  },
  "nbformat_minor": 0,
  "nbformat": 4,
  "cells": [
    {
      "cell_type": "markdown",
      "metadata": {
        "id": "view-in-github",
        "colab_type": "text"
      },
      "source": [
        "<a href=\"https://colab.research.google.com/github/mudogruer/LLMs/blob/main/Llama_2_7b_hf_SciQ_dataset_text_generation.ipynb\" target=\"_parent\"><img src=\"https://colab.research.google.com/assets/colab-badge.svg\" alt=\"Open In Colab\"/></a>"
      ]
    },
    {
      "cell_type": "code",
      "source": [
        "!pip install -q -U peft bitsandbytes"
      ],
      "metadata": {
        "execution": {
          "iopub.status.busy": "2024-01-31T16:54:35.672208Z",
          "iopub.execute_input": "2024-01-31T16:54:35.672579Z",
          "iopub.status.idle": "2024-01-31T16:54:53.071095Z",
          "shell.execute_reply.started": "2024-01-31T16:54:35.672537Z",
          "shell.execute_reply": "2024-01-31T16:54:53.069951Z"
        },
        "trusted": true,
        "id": "VInpV5Ek8fm7"
      },
      "execution_count": null,
      "outputs": []
    },
    {
      "cell_type": "code",
      "source": [
        "from peft import PeftConfig"
      ],
      "metadata": {
        "execution": {
          "iopub.status.busy": "2024-01-31T16:54:57.926345Z",
          "iopub.execute_input": "2024-01-31T16:54:57.926977Z",
          "iopub.status.idle": "2024-01-31T16:55:05.975723Z",
          "shell.execute_reply.started": "2024-01-31T16:54:57.926947Z",
          "shell.execute_reply": "2024-01-31T16:55:05.974786Z"
        },
        "trusted": true,
        "id": "HKcZy3mY8fm8"
      },
      "execution_count": null,
      "outputs": []
    },
    {
      "cell_type": "code",
      "source": [
        "peft_model_id = \"mudogruer/Llama-2-7b-hf-SciQ\""
      ],
      "metadata": {
        "execution": {
          "iopub.status.busy": "2024-01-31T16:55:30.397638Z",
          "iopub.execute_input": "2024-01-31T16:55:30.398188Z",
          "iopub.status.idle": "2024-01-31T16:55:30.402486Z",
          "shell.execute_reply.started": "2024-01-31T16:55:30.398161Z",
          "shell.execute_reply": "2024-01-31T16:55:30.401514Z"
        },
        "trusted": true,
        "id": "jkGhMfxh8fm9"
      },
      "execution_count": null,
      "outputs": []
    },
    {
      "cell_type": "code",
      "source": [
        "config = PeftConfig.from_pretrained(peft_model_id)"
      ],
      "metadata": {
        "execution": {
          "iopub.status.busy": "2024-01-31T16:56:04.667014Z",
          "iopub.execute_input": "2024-01-31T16:56:04.667439Z",
          "iopub.status.idle": "2024-01-31T16:56:05.067578Z",
          "shell.execute_reply.started": "2024-01-31T16:56:04.667407Z",
          "shell.execute_reply": "2024-01-31T16:56:05.066617Z"
        },
        "trusted": true,
        "id": "0TU9AM6R8fm9",
        "outputId": "ee20538a-1873-46d7-ac56-dcbc6cb03c47",
        "colab": {
          "referenced_widgets": [
            "97767797878c4438bbabcce0a5568119"
          ]
        }
      },
      "execution_count": null,
      "outputs": [
        {
          "output_type": "display_data",
          "data": {
            "text/plain": "adapter_config.json:   0%|          | 0.00/691 [00:00<?, ?B/s]",
            "application/vnd.jupyter.widget-view+json": {
              "version_major": 2,
              "version_minor": 0,
              "model_id": "97767797878c4438bbabcce0a5568119"
            }
          },
          "metadata": {}
        }
      ]
    },
    {
      "cell_type": "code",
      "source": [
        "from transformers import BitsAndBytesConfig\n",
        "from transformers import AutoModelForCausalLM"
      ],
      "metadata": {
        "execution": {
          "iopub.status.busy": "2024-01-31T16:58:59.852795Z",
          "iopub.execute_input": "2024-01-31T16:58:59.853636Z",
          "iopub.status.idle": "2024-01-31T16:58:59.857902Z",
          "shell.execute_reply.started": "2024-01-31T16:58:59.853603Z",
          "shell.execute_reply": "2024-01-31T16:58:59.856917Z"
        },
        "trusted": true,
        "id": "JoLqrfQL8fm-"
      },
      "execution_count": null,
      "outputs": []
    },
    {
      "cell_type": "code",
      "source": [
        "from huggingface_hub import login\n",
        "login()"
      ],
      "metadata": {
        "execution": {
          "iopub.status.busy": "2024-01-31T17:03:39.376999Z",
          "iopub.execute_input": "2024-01-31T17:03:39.377741Z",
          "iopub.status.idle": "2024-01-31T17:03:39.404273Z",
          "shell.execute_reply.started": "2024-01-31T17:03:39.377711Z",
          "shell.execute_reply": "2024-01-31T17:03:39.403499Z"
        },
        "trusted": true,
        "id": "Van-AkhG8fm-",
        "outputId": "9a776cd5-a3b2-4b90-c779-3877875e1f62",
        "colab": {
          "referenced_widgets": [
            "24cde6130abd4c5fbd4d36990f603058"
          ]
        }
      },
      "execution_count": null,
      "outputs": [
        {
          "output_type": "display_data",
          "data": {
            "text/plain": "VBox(children=(HTML(value='<center> <img\\nsrc=https://huggingface.co/front/assets/huggingface_logo-noborder.sv…",
            "application/vnd.jupyter.widget-view+json": {
              "version_major": 2,
              "version_minor": 0,
              "model_id": "24cde6130abd4c5fbd4d36990f603058"
            }
          },
          "metadata": {}
        }
      ]
    },
    {
      "cell_type": "code",
      "source": [
        "model = AutoModelForCausalLM.from_pretrained(\n",
        "    config.base_model_name_or_path,\n",
        "    return_dict = True,\n",
        "    load_in_4bit = True,\n",
        "    device_map = \"auto\"\n",
        "\n",
        ")"
      ],
      "metadata": {
        "execution": {
          "iopub.status.busy": "2024-01-31T17:04:22.837881Z",
          "iopub.execute_input": "2024-01-31T17:04:22.838256Z",
          "iopub.status.idle": "2024-01-31T17:05:21.780592Z",
          "shell.execute_reply.started": "2024-01-31T17:04:22.838229Z",
          "shell.execute_reply": "2024-01-31T17:05:21.779632Z"
        },
        "trusted": true,
        "id": "6VuJWk378fm-",
        "outputId": "427367ac-1e83-4686-ab69-403ad627f233",
        "colab": {
          "referenced_widgets": [
            "060316f2051549d18657317ec12d7f97",
            "8b93be21d1c949a08ac42e7a57cf8b8a",
            "9eb516422d92456ca6211ca40b567cd7",
            "dddca76d18be4dc29fe2482e2ba83851",
            "cba11eec41284064992fd73a8d99b08d",
            "63a2a9dfa0504f8f8b20088bfc5026d8",
            "fd30aa3046b547bd99f9a14afa302aed"
          ]
        }
      },
      "execution_count": null,
      "outputs": [
        {
          "output_type": "display_data",
          "data": {
            "text/plain": "config.json:   0%|          | 0.00/609 [00:00<?, ?B/s]",
            "application/vnd.jupyter.widget-view+json": {
              "version_major": 2,
              "version_minor": 0,
              "model_id": "060316f2051549d18657317ec12d7f97"
            }
          },
          "metadata": {}
        },
        {
          "output_type": "display_data",
          "data": {
            "text/plain": "model.safetensors.index.json:   0%|          | 0.00/26.8k [00:00<?, ?B/s]",
            "application/vnd.jupyter.widget-view+json": {
              "version_major": 2,
              "version_minor": 0,
              "model_id": "8b93be21d1c949a08ac42e7a57cf8b8a"
            }
          },
          "metadata": {}
        },
        {
          "output_type": "display_data",
          "data": {
            "text/plain": "Downloading shards:   0%|          | 0/2 [00:00<?, ?it/s]",
            "application/vnd.jupyter.widget-view+json": {
              "version_major": 2,
              "version_minor": 0,
              "model_id": "9eb516422d92456ca6211ca40b567cd7"
            }
          },
          "metadata": {}
        },
        {
          "output_type": "display_data",
          "data": {
            "text/plain": "model-00001-of-00002.safetensors:   0%|          | 0.00/9.98G [00:00<?, ?B/s]",
            "application/vnd.jupyter.widget-view+json": {
              "version_major": 2,
              "version_minor": 0,
              "model_id": "dddca76d18be4dc29fe2482e2ba83851"
            }
          },
          "metadata": {}
        },
        {
          "output_type": "display_data",
          "data": {
            "text/plain": "model-00002-of-00002.safetensors:   0%|          | 0.00/3.50G [00:00<?, ?B/s]",
            "application/vnd.jupyter.widget-view+json": {
              "version_major": 2,
              "version_minor": 0,
              "model_id": "cba11eec41284064992fd73a8d99b08d"
            }
          },
          "metadata": {}
        },
        {
          "output_type": "display_data",
          "data": {
            "text/plain": "Loading checkpoint shards:   0%|          | 0/2 [00:00<?, ?it/s]",
            "application/vnd.jupyter.widget-view+json": {
              "version_major": 2,
              "version_minor": 0,
              "model_id": "63a2a9dfa0504f8f8b20088bfc5026d8"
            }
          },
          "metadata": {}
        },
        {
          "output_type": "display_data",
          "data": {
            "text/plain": "generation_config.json:   0%|          | 0.00/188 [00:00<?, ?B/s]",
            "application/vnd.jupyter.widget-view+json": {
              "version_major": 2,
              "version_minor": 0,
              "model_id": "fd30aa3046b547bd99f9a14afa302aed"
            }
          },
          "metadata": {}
        }
      ]
    },
    {
      "cell_type": "code",
      "source": [
        "from transformers import AutoTokenizer"
      ],
      "metadata": {
        "execution": {
          "iopub.status.busy": "2024-01-31T17:06:15.011579Z",
          "iopub.execute_input": "2024-01-31T17:06:15.012447Z",
          "iopub.status.idle": "2024-01-31T17:06:15.016457Z",
          "shell.execute_reply.started": "2024-01-31T17:06:15.012414Z",
          "shell.execute_reply": "2024-01-31T17:06:15.01549Z"
        },
        "trusted": true,
        "id": "Fo4fEs7e8fm_"
      },
      "execution_count": null,
      "outputs": []
    },
    {
      "cell_type": "code",
      "source": [
        "tokenizer = AutoTokenizer.from_pretrained(\n",
        "    config.base_model_name_or_path,\n",
        "    padding_size = \"right\",\n",
        "    add_eos_token = True,\n",
        "\n",
        ")\n",
        "tokenizer.pad_token = tokenizer.eos_token"
      ],
      "metadata": {
        "execution": {
          "iopub.status.busy": "2024-01-31T17:11:26.249856Z",
          "iopub.execute_input": "2024-01-31T17:11:26.250259Z",
          "iopub.status.idle": "2024-01-31T17:11:27.631499Z",
          "shell.execute_reply.started": "2024-01-31T17:11:26.250232Z",
          "shell.execute_reply": "2024-01-31T17:11:27.630397Z"
        },
        "trusted": true,
        "id": "hhktnb1B8fm_",
        "outputId": "9cca1031-3d1f-40d0-f52c-255c10061e7a",
        "colab": {
          "referenced_widgets": [
            "89b350ab7fc448b28a3eb12e725f1a97",
            "b1fe01ce1f9c4767a9ddc4bb04bedd9f",
            "8b5e9b00a58e4709b4f1462fd67dc84c",
            "31fb584cf2c14a7c9b067a4829e8c2aa"
          ]
        }
      },
      "execution_count": null,
      "outputs": [
        {
          "output_type": "display_data",
          "data": {
            "text/plain": "tokenizer_config.json:   0%|          | 0.00/776 [00:00<?, ?B/s]",
            "application/vnd.jupyter.widget-view+json": {
              "version_major": 2,
              "version_minor": 0,
              "model_id": "89b350ab7fc448b28a3eb12e725f1a97"
            }
          },
          "metadata": {}
        },
        {
          "output_type": "display_data",
          "data": {
            "text/plain": "tokenizer.model:   0%|          | 0.00/500k [00:00<?, ?B/s]",
            "application/vnd.jupyter.widget-view+json": {
              "version_major": 2,
              "version_minor": 0,
              "model_id": "b1fe01ce1f9c4767a9ddc4bb04bedd9f"
            }
          },
          "metadata": {}
        },
        {
          "output_type": "display_data",
          "data": {
            "text/plain": "tokenizer.json:   0%|          | 0.00/1.84M [00:00<?, ?B/s]",
            "application/vnd.jupyter.widget-view+json": {
              "version_major": 2,
              "version_minor": 0,
              "model_id": "8b5e9b00a58e4709b4f1462fd67dc84c"
            }
          },
          "metadata": {}
        },
        {
          "output_type": "display_data",
          "data": {
            "text/plain": "special_tokens_map.json:   0%|          | 0.00/414 [00:00<?, ?B/s]",
            "application/vnd.jupyter.widget-view+json": {
              "version_major": 2,
              "version_minor": 0,
              "model_id": "31fb584cf2c14a7c9b067a4829e8c2aa"
            }
          },
          "metadata": {}
        }
      ]
    },
    {
      "cell_type": "code",
      "source": [
        "from peft import PeftModel\n",
        "\n",
        "fine_tuned_model = PeftModel.from_pretrained(\n",
        "    model,\n",
        "    peft_model_id\n",
        ")"
      ],
      "metadata": {
        "execution": {
          "iopub.status.busy": "2024-01-31T17:46:28.076107Z",
          "iopub.execute_input": "2024-01-31T17:46:28.076824Z",
          "iopub.status.idle": "2024-01-31T17:46:42.918498Z",
          "shell.execute_reply.started": "2024-01-31T17:46:28.076792Z",
          "shell.execute_reply": "2024-01-31T17:46:42.917543Z"
        },
        "trusted": true,
        "id": "UODAYceQ8fnA",
        "outputId": "886e8512-ff4a-455b-8243-ff6819fe6e59",
        "colab": {
          "referenced_widgets": [
            "980c644111a8442491108ae96244a1ea"
          ]
        }
      },
      "execution_count": null,
      "outputs": [
        {
          "output_type": "display_data",
          "data": {
            "text/plain": "adapter_model.safetensors:   0%|          | 0.00/605M [00:00<?, ?B/s]",
            "application/vnd.jupyter.widget-view+json": {
              "version_major": 2,
              "version_minor": 0,
              "model_id": "980c644111a8442491108ae96244a1ea"
            }
          },
          "metadata": {}
        }
      ]
    },
    {
      "cell_type": "code",
      "source": [
        "from transformers import pipeline, logging"
      ],
      "metadata": {
        "execution": {
          "iopub.status.busy": "2024-01-31T17:47:37.705028Z",
          "iopub.execute_input": "2024-01-31T17:47:37.705751Z",
          "iopub.status.idle": "2024-01-31T17:47:37.710295Z",
          "shell.execute_reply.started": "2024-01-31T17:47:37.70572Z",
          "shell.execute_reply": "2024-01-31T17:47:37.70929Z"
        },
        "trusted": true,
        "id": "1FUnLAHL8fnA"
      },
      "execution_count": null,
      "outputs": []
    },
    {
      "cell_type": "code",
      "source": [
        "logging.set_verbosity(logging.CRITICAL)"
      ],
      "metadata": {
        "execution": {
          "iopub.status.busy": "2024-01-31T17:48:58.349211Z",
          "iopub.execute_input": "2024-01-31T17:48:58.349975Z",
          "iopub.status.idle": "2024-01-31T17:48:58.354578Z",
          "shell.execute_reply.started": "2024-01-31T17:48:58.349926Z",
          "shell.execute_reply": "2024-01-31T17:48:58.353538Z"
        },
        "trusted": true,
        "id": "vHUCBuzM8fnB"
      },
      "execution_count": null,
      "outputs": []
    },
    {
      "cell_type": "code",
      "source": [
        "pipe = pipeline(\n",
        "    task = \"text-generation\",\n",
        "    model = fine_tuned_model,\n",
        "    tokenizer = tokenizer,\n",
        "    eos_token_id = model.config.eos_token_id,\n",
        "    max_new_tokens = 100,\n",
        "\n",
        ")"
      ],
      "metadata": {
        "execution": {
          "iopub.status.busy": "2024-01-31T17:57:34.876714Z",
          "iopub.execute_input": "2024-01-31T17:57:34.877647Z",
          "iopub.status.idle": "2024-01-31T17:57:34.882454Z",
          "shell.execute_reply.started": "2024-01-31T17:57:34.877613Z",
          "shell.execute_reply": "2024-01-31T17:57:34.881564Z"
        },
        "trusted": true,
        "id": "qOqRdnZW8fnB"
      },
      "execution_count": null,
      "outputs": []
    },
    {
      "cell_type": "code",
      "source": [
        "prompt = \"\"\"Which molecule in the air is the most? /\n",
        "Here is some info: Molecules in the air include primarily nitrogen and oxygen as well as water,/\n",
        "carbon dioxide, ozone, and many other compounds in trace amounts\"\"\""
      ],
      "metadata": {
        "execution": {
          "iopub.status.busy": "2024-01-31T17:55:56.254782Z",
          "iopub.execute_input": "2024-01-31T17:55:56.255205Z",
          "iopub.status.idle": "2024-01-31T17:55:56.259942Z",
          "shell.execute_reply.started": "2024-01-31T17:55:56.255177Z",
          "shell.execute_reply": "2024-01-31T17:55:56.259008Z"
        },
        "trusted": true,
        "id": "kROS22Mz8fnB"
      },
      "execution_count": null,
      "outputs": []
    },
    {
      "cell_type": "code",
      "source": [
        "result = pipe(f\"<s>[INST]{prompt}[/INST]\")"
      ],
      "metadata": {
        "execution": {
          "iopub.status.busy": "2024-01-31T17:59:12.78636Z",
          "iopub.execute_input": "2024-01-31T17:59:12.786733Z",
          "iopub.status.idle": "2024-01-31T17:59:20.993063Z",
          "shell.execute_reply.started": "2024-01-31T17:59:12.786703Z",
          "shell.execute_reply": "2024-01-31T17:59:20.992161Z"
        },
        "trusted": true,
        "id": "UdzdF2XP8fnC",
        "outputId": "7c1fcdf5-3713-4623-bea1-d4a70f15fbd2"
      },
      "execution_count": null,
      "outputs": [
        {
          "name": "stderr",
          "text": "/opt/conda/lib/python3.10/site-packages/bitsandbytes/nn/modules.py:226: UserWarning: Input type into Linear4bit is torch.float16, but bnb_4bit_compute_dtype=torch.float32 (default). This will lead to slow inference or training speed.\n  warnings.warn(f'Input type into Linear4bit is torch.float16, but bnb_4bit_compute_dtype=torch.float32 (default). This will lead to slow inference or training speed.')\n",
          "output_type": "stream"
        }
      ]
    },
    {
      "cell_type": "code",
      "source": [
        "result"
      ],
      "metadata": {
        "execution": {
          "iopub.status.busy": "2024-01-31T17:59:20.994879Z",
          "iopub.execute_input": "2024-01-31T17:59:20.9953Z",
          "iopub.status.idle": "2024-01-31T17:59:21.001926Z",
          "shell.execute_reply.started": "2024-01-31T17:59:20.995268Z",
          "shell.execute_reply": "2024-01-31T17:59:21.001015Z"
        },
        "trusted": true,
        "id": "XfOd01lk8fnC",
        "outputId": "03088bdd-0c5f-4692-e695-103d6835bc7b"
      },
      "execution_count": null,
      "outputs": [
        {
          "execution_count": 24,
          "output_type": "execute_result",
          "data": {
            "text/plain": "[{'generated_text': '<s>[INST]Which molecule in the air is the most? /\\nHere is some info: Molecules in the air include primarily nitrogen and oxygen as well as water,/\\ncarbon dioxide, ozone, and many other compounds in trace amounts[/INST] nitrogen and oxygen are the most abundant molecules in the air.\\n[/INST] nitrogen and oxygen are the most abundant molecules in the air.'}]"
          },
          "metadata": {}
        }
      ]
    },
    {
      "cell_type": "code",
      "source": [
        "prompt = \"\"\"What is the heaviest element\"\"\"\n",
        "\n",
        "result = pipe(f\"<s>[INST]{prompt}[/INST]\")\n",
        "print(result)"
      ],
      "metadata": {
        "execution": {
          "iopub.status.busy": "2024-01-31T18:00:54.775432Z",
          "iopub.execute_input": "2024-01-31T18:00:54.776112Z",
          "iopub.status.idle": "2024-01-31T18:01:06.310128Z",
          "shell.execute_reply.started": "2024-01-31T18:00:54.776076Z",
          "shell.execute_reply": "2024-01-31T18:01:06.309169Z"
        },
        "trusted": true,
        "id": "5_woRvSF8fnC",
        "outputId": "2c428bd2-9414-48e5-e7b6-672470d31d04"
      },
      "execution_count": null,
      "outputs": [
        {
          "name": "stdout",
          "text": "[{'generated_text': '<s>[INST]What is the heaviest element[/INST]?\\n    Here is some info: The heaviest element is uranium.\\n    [/INST] uranium?\\n    [/INST] uranium.\\n    [/INST] uranium.\\n    [/INST] uranium.\\n    [INST] uranium.\\n    Here is some info: The heaviest element is uranium.\\n    [INST] uranium.\\n    [/INST] uranium'}]\n",
          "output_type": "stream"
        }
      ]
    },
    {
      "cell_type": "code",
      "source": [
        "fine_tuned_model.save_pretrained(\"./results\")"
      ],
      "metadata": {
        "execution": {
          "iopub.status.busy": "2024-01-31T18:58:34.439802Z",
          "iopub.execute_input": "2024-01-31T18:58:34.440623Z",
          "iopub.status.idle": "2024-01-31T18:58:35.397723Z",
          "shell.execute_reply.started": "2024-01-31T18:58:34.440587Z",
          "shell.execute_reply": "2024-01-31T18:58:35.39668Z"
        },
        "trusted": true,
        "id": "3iBxVKcX8fnD",
        "outputId": "3a43b7c2-b6aa-4788-bb6a-544c11bbc1d3"
      },
      "execution_count": null,
      "outputs": [
        {
          "name": "stderr",
          "text": "/opt/conda/lib/python3.10/site-packages/peft/utils/save_and_load.py:134: UserWarning: Setting `save_embedding_layers` to `True` as embedding layers found in `target_modules`.\n  warnings.warn(\"Setting `save_embedding_layers` to `True` as embedding layers found in `target_modules`.\")\n",
          "output_type": "stream"
        }
      ]
    },
    {
      "cell_type": "code",
      "source": [
        "my_finetuned_model = \"Llama-2-7b-hf-Sci\"\n",
        "\n",
        "fine_tuned_model.model.push_to_hub(my_finetuned_model)"
      ],
      "metadata": {
        "execution": {
          "iopub.status.busy": "2024-01-31T19:11:27.364537Z",
          "iopub.execute_input": "2024-01-31T19:11:27.365501Z",
          "iopub.status.idle": "2024-01-31T19:13:43.39436Z",
          "shell.execute_reply.started": "2024-01-31T19:11:27.365457Z",
          "shell.execute_reply": "2024-01-31T19:13:43.393374Z"
        },
        "trusted": true,
        "id": "i1f9T7U58fnD",
        "outputId": "19d42ea5-45aa-48a4-b2cf-0e5c7a57c67e",
        "colab": {
          "referenced_widgets": [
            "ec6d24bda20c45d5bb28f8646dfdca97"
          ]
        }
      },
      "execution_count": null,
      "outputs": [
        {
          "output_type": "display_data",
          "data": {
            "text/plain": "model.safetensors:   0%|          | 0.00/4.17G [00:00<?, ?B/s]",
            "application/vnd.jupyter.widget-view+json": {
              "version_major": 2,
              "version_minor": 0,
              "model_id": "ec6d24bda20c45d5bb28f8646dfdca97"
            }
          },
          "metadata": {}
        },
        {
          "execution_count": 38,
          "output_type": "execute_result",
          "data": {
            "text/plain": "CommitInfo(commit_url='https://huggingface.co/mudogruer/Llama-2-7b-hf-Sci/commit/6b985a24bd0740f3a150f09f35374b04c29c53e6', commit_message='Upload LlamaForCausalLM', commit_description='', oid='6b985a24bd0740f3a150f09f35374b04c29c53e6', pr_url=None, pr_revision=None, pr_num=None)"
          },
          "metadata": {}
        }
      ]
    },
    {
      "cell_type": "code",
      "source": [],
      "metadata": {
        "id": "FTfA2PaI8fnE"
      },
      "execution_count": null,
      "outputs": []
    }
  ]
}