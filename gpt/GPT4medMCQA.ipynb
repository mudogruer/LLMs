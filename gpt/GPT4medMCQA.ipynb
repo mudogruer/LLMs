{
 "cells": [
  {
   "cell_type": "code",
   "execution_count": 1,
   "metadata": {},
   "outputs": [
    {
     "data": {
      "text/plain": [
       "True"
      ]
     },
     "execution_count": 1,
     "metadata": {},
     "output_type": "execute_result"
    }
   ],
   "source": [
    "from dotenv import load_dotenv\n",
    "\n",
    "load_dotenv()"
   ]
  },
  {
   "cell_type": "code",
   "execution_count": 2,
   "metadata": {},
   "outputs": [
    {
     "name": "stdout",
     "output_type": "stream",
     "text": [
      "Note: you may need to restart the kernel to use updated packages.\n"
     ]
    }
   ],
   "source": [
    "pip install -q evaluate"
   ]
  },
  {
   "cell_type": "code",
   "execution_count": 3,
   "metadata": {},
   "outputs": [],
   "source": [
    "from langchain_openai import ChatOpenAI\n",
    "\n",
    "llm = ChatOpenAI(\n",
    "\n",
    "    model_name= \"gpt-4-turbo-preview\",\n",
    "    temperature= 0.2,\n",
    "    max_tokens= 30\n",
    ")"
   ]
  },
  {
   "cell_type": "code",
   "execution_count": 4,
   "metadata": {},
   "outputs": [
    {
     "name": "stdout",
     "output_type": "stream",
     "text": [
      "content='The capital of Turkey is Ankara.'\n"
     ]
    }
   ],
   "source": [
    "text = \"what is the capital of Turkey\"\n",
    "\n",
    "response = llm.invoke(text)\n",
    "\n",
    "print(response)"
   ]
  },
  {
   "cell_type": "code",
   "execution_count": 5,
   "metadata": {},
   "outputs": [
    {
     "name": "stdout",
     "output_type": "stream",
     "text": [
      "Note: you may need to restart the kernel to use updated packages.\n"
     ]
    }
   ],
   "source": [
    "pip install -q bert-score"
   ]
  },
  {
   "cell_type": "code",
   "execution_count": 6,
   "metadata": {},
   "outputs": [
    {
     "name": "stdout",
     "output_type": "stream",
     "text": [
      "Requirement already satisfied: nltk in c:\\users\\musta\\anaconda3\\envs\\langchain\\lib\\site-packages (3.8.1)\n",
      "Requirement already satisfied: click in c:\\users\\musta\\anaconda3\\envs\\langchain\\lib\\site-packages (from nltk) (8.1.7)\n",
      "Requirement already satisfied: joblib in c:\\users\\musta\\anaconda3\\envs\\langchain\\lib\\site-packages (from nltk) (1.3.2)\n",
      "Requirement already satisfied: regex>=2021.8.3 in c:\\users\\musta\\anaconda3\\envs\\langchain\\lib\\site-packages (from nltk) (2023.12.25)\n",
      "Requirement already satisfied: tqdm in c:\\users\\musta\\anaconda3\\envs\\langchain\\lib\\site-packages (from nltk) (4.66.2)\n",
      "Requirement already satisfied: colorama in c:\\users\\musta\\anaconda3\\envs\\langchain\\lib\\site-packages (from click->nltk) (0.4.6)\n",
      "Note: you may need to restart the kernel to use updated packages.\n"
     ]
    }
   ],
   "source": [
    "pip install nltk"
   ]
  },
  {
   "cell_type": "code",
   "execution_count": 7,
   "metadata": {},
   "outputs": [],
   "source": [
    "prompt = \"what is the heaviest element\"\n",
    "\n",
    "sequence = llm.invoke(prompt)"
   ]
  },
  {
   "cell_type": "code",
   "execution_count": 8,
   "metadata": {},
   "outputs": [
    {
     "data": {
      "text/plain": [
       "'As of my last update in 2023, the heaviest element that has been synthesized and officially recognized is Oganesson (Og) with'"
      ]
     },
     "execution_count": 8,
     "metadata": {},
     "output_type": "execute_result"
    }
   ],
   "source": [
    "sequence.content"
   ]
  },
  {
   "cell_type": "code",
   "execution_count": 9,
   "metadata": {},
   "outputs": [],
   "source": [
    "def Sequence(prompt):\n",
    "    sequence = llm.invoke(prompt)\n",
    "    return sequence.content"
   ]
  },
  {
   "cell_type": "code",
   "execution_count": 10,
   "metadata": {},
   "outputs": [
    {
     "name": "stdout",
     "output_type": "stream",
     "text": [
      "The symbol of iron is Fe. This comes from the Latin word for iron, \"ferrum.\"\n"
     ]
    }
   ],
   "source": [
    "prompt = \"What is the symbol of iron?\"\n",
    "\n",
    "print(Sequence(prompt))"
   ]
  },
  {
   "cell_type": "code",
   "execution_count": 12,
   "metadata": {},
   "outputs": [
    {
     "data": {
      "text/html": [
       "<div>\n",
       "<style scoped>\n",
       "    .dataframe tbody tr th:only-of-type {\n",
       "        vertical-align: middle;\n",
       "    }\n",
       "\n",
       "    .dataframe tbody tr th {\n",
       "        vertical-align: top;\n",
       "    }\n",
       "\n",
       "    .dataframe thead th {\n",
       "        text-align: right;\n",
       "    }\n",
       "</style>\n",
       "<table border=\"1\" class=\"dataframe\">\n",
       "  <thead>\n",
       "    <tr style=\"text-align: right;\">\n",
       "      <th></th>\n",
       "      <th>question</th>\n",
       "      <th>exp</th>\n",
       "      <th>cop</th>\n",
       "      <th>opa</th>\n",
       "      <th>opb</th>\n",
       "      <th>opc</th>\n",
       "      <th>opd</th>\n",
       "      <th>subject_name</th>\n",
       "      <th>topic_name</th>\n",
       "      <th>id</th>\n",
       "      <th>choice_type</th>\n",
       "      <th>answer</th>\n",
       "      <th>predicted_answer</th>\n",
       "    </tr>\n",
       "  </thead>\n",
       "  <tbody>\n",
       "    <tr>\n",
       "      <th>0</th>\n",
       "      <td>Which of the following is not true for myelina...</td>\n",
       "      <td>NaN</td>\n",
       "      <td>1</td>\n",
       "      <td>Impulse through myelinated fibers is slower th...</td>\n",
       "      <td>Membrane currents are generated at nodes of Ra...</td>\n",
       "      <td>Saltatory conduction of impulses is seen</td>\n",
       "      <td>Local anesthesia is effective only when the ne...</td>\n",
       "      <td>Physiology</td>\n",
       "      <td>NaN</td>\n",
       "      <td>45258d3d-b974-44dd-a161-c3fccbdadd88</td>\n",
       "      <td>multi</td>\n",
       "      <td>Impulse through myelinated fibers is slower th...</td>\n",
       "      <td>They are not surrounded by Schwann cells</td>\n",
       "    </tr>\n",
       "    <tr>\n",
       "      <th>1</th>\n",
       "      <td>Which of the following is not true about glome...</td>\n",
       "      <td>Ans-a. The oncotic pressure of the fluid leavi...</td>\n",
       "      <td>1</td>\n",
       "      <td>The oncotic pressure of the fluid leaving the ...</td>\n",
       "      <td>Glucose concentration in the capillaries is th...</td>\n",
       "      <td>Constriction of afferent aeriole decreases the...</td>\n",
       "      <td>Hematocrit of the fluid leaving the capillarie...</td>\n",
       "      <td>Physiology</td>\n",
       "      <td>NaN</td>\n",
       "      <td>b944ada9-d776-4c2a-9180-3ae5f393f72d</td>\n",
       "      <td>multi</td>\n",
       "      <td>The oncotic pressure of the fluid leaving the ...</td>\n",
       "      <td>The oncotic pressure of the fluid leaving the ...</td>\n",
       "    </tr>\n",
       "    <tr>\n",
       "      <th>2</th>\n",
       "      <td>A 29 yrs old woman with a pregnancy of 17 week...</td>\n",
       "      <td>NaN</td>\n",
       "      <td>3</td>\n",
       "      <td>No test is required now as her age is below 35...</td>\n",
       "      <td>Ultra sound at this point of time will definit...</td>\n",
       "      <td>Amniotic fluid samples plus chromosomal analys...</td>\n",
       "      <td>blood screening at this point of time will cle...</td>\n",
       "      <td>Medicine</td>\n",
       "      <td>NaN</td>\n",
       "      <td>b64a9cd7-d076-4c55-8be1-f9c44fece6cc</td>\n",
       "      <td>single</td>\n",
       "      <td>Amniotic fluid samples plus chromosomal analys...</td>\n",
       "      <td>Nan</td>\n",
       "    </tr>\n",
       "    <tr>\n",
       "      <th>3</th>\n",
       "      <td>Axonal transport is:</td>\n",
       "      <td>Fast anterograde (400 mm/day) transport occurs...</td>\n",
       "      <td>3</td>\n",
       "      <td>Antegrade</td>\n",
       "      <td>Retrograde</td>\n",
       "      <td>Antegrade and retrograde</td>\n",
       "      <td>NaN</td>\n",
       "      <td>Physiology</td>\n",
       "      <td>NaN</td>\n",
       "      <td>c6365cce-507c-40f6-90a2-46b867f47b6e</td>\n",
       "      <td>multi</td>\n",
       "      <td>Antegrade and retrograde</td>\n",
       "      <td>Bidirectional</td>\n",
       "    </tr>\n",
       "    <tr>\n",
       "      <th>4</th>\n",
       "      <td>Low insulin to glucagon ratio is seen in all o...</td>\n",
       "      <td>Answer- A. Glycogen synthesisLow insulin to gl...</td>\n",
       "      <td>1</td>\n",
       "      <td>Glycogen synthesis</td>\n",
       "      <td>Glycogen breakdown</td>\n",
       "      <td>Gluconeogenesis</td>\n",
       "      <td>Ketogenesis</td>\n",
       "      <td>Biochemistry</td>\n",
       "      <td>NaN</td>\n",
       "      <td>72c1c5e0-b64f-4eef-bf22-ecfb60c5c19c</td>\n",
       "      <td>multi</td>\n",
       "      <td>Glycogen synthesis</td>\n",
       "      <td>Glycogen synthesis</td>\n",
       "    </tr>\n",
       "  </tbody>\n",
       "</table>\n",
       "</div>"
      ],
      "text/plain": [
       "                                            question  \\\n",
       "0  Which of the following is not true for myelina...   \n",
       "1  Which of the following is not true about glome...   \n",
       "2  A 29 yrs old woman with a pregnancy of 17 week...   \n",
       "3                               Axonal transport is:   \n",
       "4  Low insulin to glucagon ratio is seen in all o...   \n",
       "\n",
       "                                                 exp  cop  \\\n",
       "0                                                NaN    1   \n",
       "1  Ans-a. The oncotic pressure of the fluid leavi...    1   \n",
       "2                                                NaN    3   \n",
       "3  Fast anterograde (400 mm/day) transport occurs...    3   \n",
       "4  Answer- A. Glycogen synthesisLow insulin to gl...    1   \n",
       "\n",
       "                                                 opa  \\\n",
       "0  Impulse through myelinated fibers is slower th...   \n",
       "1  The oncotic pressure of the fluid leaving the ...   \n",
       "2  No test is required now as her age is below 35...   \n",
       "3                                          Antegrade   \n",
       "4                                 Glycogen synthesis   \n",
       "\n",
       "                                                 opb  \\\n",
       "0  Membrane currents are generated at nodes of Ra...   \n",
       "1  Glucose concentration in the capillaries is th...   \n",
       "2  Ultra sound at this point of time will definit...   \n",
       "3                                         Retrograde   \n",
       "4                                 Glycogen breakdown   \n",
       "\n",
       "                                                 opc  \\\n",
       "0           Saltatory conduction of impulses is seen   \n",
       "1  Constriction of afferent aeriole decreases the...   \n",
       "2  Amniotic fluid samples plus chromosomal analys...   \n",
       "3                           Antegrade and retrograde   \n",
       "4                                    Gluconeogenesis   \n",
       "\n",
       "                                                 opd  subject_name topic_name  \\\n",
       "0  Local anesthesia is effective only when the ne...    Physiology        NaN   \n",
       "1  Hematocrit of the fluid leaving the capillarie...    Physiology        NaN   \n",
       "2  blood screening at this point of time will cle...      Medicine        NaN   \n",
       "3                                                NaN    Physiology        NaN   \n",
       "4                                        Ketogenesis  Biochemistry        NaN   \n",
       "\n",
       "                                     id choice_type  \\\n",
       "0  45258d3d-b974-44dd-a161-c3fccbdadd88       multi   \n",
       "1  b944ada9-d776-4c2a-9180-3ae5f393f72d       multi   \n",
       "2  b64a9cd7-d076-4c55-8be1-f9c44fece6cc      single   \n",
       "3  c6365cce-507c-40f6-90a2-46b867f47b6e       multi   \n",
       "4  72c1c5e0-b64f-4eef-bf22-ecfb60c5c19c       multi   \n",
       "\n",
       "                                              answer  \\\n",
       "0  Impulse through myelinated fibers is slower th...   \n",
       "1  The oncotic pressure of the fluid leaving the ...   \n",
       "2  Amniotic fluid samples plus chromosomal analys...   \n",
       "3                           Antegrade and retrograde   \n",
       "4                                 Glycogen synthesis   \n",
       "\n",
       "                                    predicted_answer  \n",
       "0           They are not surrounded by Schwann cells  \n",
       "1  The oncotic pressure of the fluid leaving the ...  \n",
       "2                                                Nan  \n",
       "3                                      Bidirectional  \n",
       "4                                 Glycogen synthesis  "
      ]
     },
     "execution_count": 12,
     "metadata": {},
     "output_type": "execute_result"
    }
   ],
   "source": [
    "import pandas as pd\n",
    "\n",
    "dataset_test = pd.read_csv(\"answer_med_test.csv\")\n",
    "dataset_test.head()"
   ]
  },
  {
   "cell_type": "code",
   "execution_count": 13,
   "metadata": {},
   "outputs": [
    {
     "name": "stderr",
     "output_type": "stream",
     "text": [
      "c:\\Users\\musta\\anaconda3\\envs\\langchain\\Lib\\site-packages\\tqdm\\auto.py:21: TqdmWarning: IProgress not found. Please update jupyter and ipywidgets. See https://ipywidgets.readthedocs.io/en/stable/user_install.html\n",
      "  from .autonotebook import tqdm as notebook_tqdm\n"
     ]
    }
   ],
   "source": [
    "from evaluate import load\n",
    "import numpy as np\n",
    "from bert_score import score"
   ]
  },
  {
   "cell_type": "code",
   "execution_count": 17,
   "metadata": {},
   "outputs": [
    {
     "name": "stdout",
     "output_type": "stream",
     "text": [
      "precision 0.82562  +-  0.15297\n",
      "recall 0.80712  +-  0.16978\n",
      "f1 0.81545  +-  0.1605\n"
     ]
    }
   ],
   "source": [
    "bertscore = load(\"bertscore\")\n",
    "\n",
    "predictions = list(dataset_test['predicted_answer'])\n",
    "references = list(dataset_test['answer'])\n",
    "results = bertscore.compute(predictions=predictions, references=references, model_type = \"distilbert-base-uncased\")\n",
    "print('precision', round(np.mean(list(results['precision'])),5), ' +- ', round(np.std(list(results['precision'])),5))\n",
    "print('recall', round(np.mean(list(results['recall'])),5) , ' +- ', round(np.std(list(results['recall'])),5))\n",
    "print('f1', round(np.mean(list(results['f1'])),5) , ' +- ', round(np.std(list(results['f1'])),5))"
   ]
  },
  {
   "cell_type": "code",
   "execution_count": 18,
   "metadata": {},
   "outputs": [],
   "source": [
    "data_subset = dataset_test.head()"
   ]
  },
  {
   "cell_type": "code",
   "execution_count": 24,
   "metadata": {},
   "outputs": [
    {
     "name": "stderr",
     "output_type": "stream",
     "text": [
      "  0%|          | 0/1000 [00:00<?, ?it/s]"
     ]
    },
    {
     "name": "stderr",
     "output_type": "stream",
     "text": [
      "100%|██████████| 1000/1000 [13:48<00:00,  1.21it/s]\n"
     ]
    }
   ],
   "source": [
    "from tqdm.auto import tqdm\n",
    "#inference for test dataset\n",
    "pbar = tqdm(dataset_test.index)\n",
    "\n",
    "answers = []\n",
    "for ind in dataset_test.index:\n",
    "    answer = Sequence(\"Give me the shortest answer.\"+dataset_test['question'][ind])\n",
    "    answers.append(answer)\n",
    "    pbar.update(1) \n",
    "pbar.close()"
   ]
  },
  {
   "cell_type": "code",
   "execution_count": 25,
   "metadata": {},
   "outputs": [
    {
     "name": "stdout",
     "output_type": "stream",
     "text": [
      "precision 0.75988  +-  0.1097\n",
      "recall 0.76529  +-  0.1141\n",
      "f1 0.76145  +-  0.10813\n"
     ]
    }
   ],
   "source": [
    "bertscore = load(\"bertscore\")\n",
    "\n",
    "predictions = answers\n",
    "references = list(dataset_test['answer'])\n",
    "results = bertscore.compute(predictions=predictions, references=references, model_type = \"distilbert-base-uncased\")\n",
    "print('precision', round(np.mean(list(results['precision'])),5), ' +- ', round(np.std(list(results['precision'])),5))\n",
    "print('recall', round(np.mean(list(results['recall'])),5) , ' +- ', round(np.std(list(results['recall'])),5))\n",
    "print('f1', round(np.mean(list(results['f1'])),5) , ' +- ', round(np.std(list(results['f1'])),5))"
   ]
  },
  {
   "cell_type": "code",
   "execution_count": 26,
   "metadata": {},
   "outputs": [],
   "source": [
    "dataset_test['gpt4_answer'] = answers"
   ]
  },
  {
   "cell_type": "code",
   "execution_count": 28,
   "metadata": {},
   "outputs": [
    {
     "data": {
      "text/html": [
       "<div>\n",
       "<style scoped>\n",
       "    .dataframe tbody tr th:only-of-type {\n",
       "        vertical-align: middle;\n",
       "    }\n",
       "\n",
       "    .dataframe tbody tr th {\n",
       "        vertical-align: top;\n",
       "    }\n",
       "\n",
       "    .dataframe thead th {\n",
       "        text-align: right;\n",
       "    }\n",
       "</style>\n",
       "<table border=\"1\" class=\"dataframe\">\n",
       "  <thead>\n",
       "    <tr style=\"text-align: right;\">\n",
       "      <th></th>\n",
       "      <th>question</th>\n",
       "      <th>exp</th>\n",
       "      <th>cop</th>\n",
       "      <th>opa</th>\n",
       "      <th>opb</th>\n",
       "      <th>opc</th>\n",
       "      <th>opd</th>\n",
       "      <th>subject_name</th>\n",
       "      <th>topic_name</th>\n",
       "      <th>id</th>\n",
       "      <th>choice_type</th>\n",
       "      <th>answer</th>\n",
       "      <th>predicted_answer</th>\n",
       "      <th>gpt4_answer</th>\n",
       "    </tr>\n",
       "  </thead>\n",
       "  <tbody>\n",
       "    <tr>\n",
       "      <th>0</th>\n",
       "      <td>Which of the following is not true for myelina...</td>\n",
       "      <td>NaN</td>\n",
       "      <td>1</td>\n",
       "      <td>Impulse through myelinated fibers is slower th...</td>\n",
       "      <td>Membrane currents are generated at nodes of Ra...</td>\n",
       "      <td>Saltatory conduction of impulses is seen</td>\n",
       "      <td>Local anesthesia is effective only when the ne...</td>\n",
       "      <td>Physiology</td>\n",
       "      <td>NaN</td>\n",
       "      <td>45258d3d-b974-44dd-a161-c3fccbdadd88</td>\n",
       "      <td>multi</td>\n",
       "      <td>Impulse through myelinated fibers is slower th...</td>\n",
       "      <td>They are not surrounded by Schwann cells</td>\n",
       "      <td>Faster impulse conduction.</td>\n",
       "    </tr>\n",
       "    <tr>\n",
       "      <th>1</th>\n",
       "      <td>Which of the following is not true about glome...</td>\n",
       "      <td>Ans-a. The oncotic pressure of the fluid leavi...</td>\n",
       "      <td>1</td>\n",
       "      <td>The oncotic pressure of the fluid leaving the ...</td>\n",
       "      <td>Glucose concentration in the capillaries is th...</td>\n",
       "      <td>Constriction of afferent aeriole decreases the...</td>\n",
       "      <td>Hematocrit of the fluid leaving the capillarie...</td>\n",
       "      <td>Physiology</td>\n",
       "      <td>NaN</td>\n",
       "      <td>b944ada9-d776-4c2a-9180-3ae5f393f72d</td>\n",
       "      <td>multi</td>\n",
       "      <td>The oncotic pressure of the fluid leaving the ...</td>\n",
       "      <td>The oncotic pressure of the fluid leaving the ...</td>\n",
       "      <td>They are impermeable to large molecules.</td>\n",
       "    </tr>\n",
       "    <tr>\n",
       "      <th>2</th>\n",
       "      <td>A 29 yrs old woman with a pregnancy of 17 week...</td>\n",
       "      <td>NaN</td>\n",
       "      <td>3</td>\n",
       "      <td>No test is required now as her age is below 35...</td>\n",
       "      <td>Ultra sound at this point of time will definit...</td>\n",
       "      <td>Amniotic fluid samples plus chromosomal analys...</td>\n",
       "      <td>blood screening at this point of time will cle...</td>\n",
       "      <td>Medicine</td>\n",
       "      <td>NaN</td>\n",
       "      <td>b64a9cd7-d076-4c55-8be1-f9c44fece6cc</td>\n",
       "      <td>single</td>\n",
       "      <td>Amniotic fluid samples plus chromosomal analys...</td>\n",
       "      <td>Nan</td>\n",
       "      <td>Consider prenatal genetic testing.</td>\n",
       "    </tr>\n",
       "    <tr>\n",
       "      <th>3</th>\n",
       "      <td>Axonal transport is:</td>\n",
       "      <td>Fast anterograde (400 mm/day) transport occurs...</td>\n",
       "      <td>3</td>\n",
       "      <td>Antegrade</td>\n",
       "      <td>Retrograde</td>\n",
       "      <td>Antegrade and retrograde</td>\n",
       "      <td>NaN</td>\n",
       "      <td>Physiology</td>\n",
       "      <td>NaN</td>\n",
       "      <td>c6365cce-507c-40f6-90a2-46b867f47b6e</td>\n",
       "      <td>multi</td>\n",
       "      <td>Antegrade and retrograde</td>\n",
       "      <td>Bidirectional</td>\n",
       "      <td>Movement of materials within a neuron.</td>\n",
       "    </tr>\n",
       "    <tr>\n",
       "      <th>4</th>\n",
       "      <td>Low insulin to glucagon ratio is seen in all o...</td>\n",
       "      <td>Answer- A. Glycogen synthesisLow insulin to gl...</td>\n",
       "      <td>1</td>\n",
       "      <td>Glycogen synthesis</td>\n",
       "      <td>Glycogen breakdown</td>\n",
       "      <td>Gluconeogenesis</td>\n",
       "      <td>Ketogenesis</td>\n",
       "      <td>Biochemistry</td>\n",
       "      <td>NaN</td>\n",
       "      <td>72c1c5e0-b64f-4eef-bf22-ecfb60c5c19c</td>\n",
       "      <td>multi</td>\n",
       "      <td>Glycogen synthesis</td>\n",
       "      <td>Glycogen synthesis</td>\n",
       "      <td>Feeding</td>\n",
       "    </tr>\n",
       "  </tbody>\n",
       "</table>\n",
       "</div>"
      ],
      "text/plain": [
       "                                            question  \\\n",
       "0  Which of the following is not true for myelina...   \n",
       "1  Which of the following is not true about glome...   \n",
       "2  A 29 yrs old woman with a pregnancy of 17 week...   \n",
       "3                               Axonal transport is:   \n",
       "4  Low insulin to glucagon ratio is seen in all o...   \n",
       "\n",
       "                                                 exp  cop  \\\n",
       "0                                                NaN    1   \n",
       "1  Ans-a. The oncotic pressure of the fluid leavi...    1   \n",
       "2                                                NaN    3   \n",
       "3  Fast anterograde (400 mm/day) transport occurs...    3   \n",
       "4  Answer- A. Glycogen synthesisLow insulin to gl...    1   \n",
       "\n",
       "                                                 opa  \\\n",
       "0  Impulse through myelinated fibers is slower th...   \n",
       "1  The oncotic pressure of the fluid leaving the ...   \n",
       "2  No test is required now as her age is below 35...   \n",
       "3                                          Antegrade   \n",
       "4                                 Glycogen synthesis   \n",
       "\n",
       "                                                 opb  \\\n",
       "0  Membrane currents are generated at nodes of Ra...   \n",
       "1  Glucose concentration in the capillaries is th...   \n",
       "2  Ultra sound at this point of time will definit...   \n",
       "3                                         Retrograde   \n",
       "4                                 Glycogen breakdown   \n",
       "\n",
       "                                                 opc  \\\n",
       "0           Saltatory conduction of impulses is seen   \n",
       "1  Constriction of afferent aeriole decreases the...   \n",
       "2  Amniotic fluid samples plus chromosomal analys...   \n",
       "3                           Antegrade and retrograde   \n",
       "4                                    Gluconeogenesis   \n",
       "\n",
       "                                                 opd  subject_name topic_name  \\\n",
       "0  Local anesthesia is effective only when the ne...    Physiology        NaN   \n",
       "1  Hematocrit of the fluid leaving the capillarie...    Physiology        NaN   \n",
       "2  blood screening at this point of time will cle...      Medicine        NaN   \n",
       "3                                                NaN    Physiology        NaN   \n",
       "4                                        Ketogenesis  Biochemistry        NaN   \n",
       "\n",
       "                                     id choice_type  \\\n",
       "0  45258d3d-b974-44dd-a161-c3fccbdadd88       multi   \n",
       "1  b944ada9-d776-4c2a-9180-3ae5f393f72d       multi   \n",
       "2  b64a9cd7-d076-4c55-8be1-f9c44fece6cc      single   \n",
       "3  c6365cce-507c-40f6-90a2-46b867f47b6e       multi   \n",
       "4  72c1c5e0-b64f-4eef-bf22-ecfb60c5c19c       multi   \n",
       "\n",
       "                                              answer  \\\n",
       "0  Impulse through myelinated fibers is slower th...   \n",
       "1  The oncotic pressure of the fluid leaving the ...   \n",
       "2  Amniotic fluid samples plus chromosomal analys...   \n",
       "3                           Antegrade and retrograde   \n",
       "4                                 Glycogen synthesis   \n",
       "\n",
       "                                    predicted_answer  \\\n",
       "0           They are not surrounded by Schwann cells   \n",
       "1  The oncotic pressure of the fluid leaving the ...   \n",
       "2                                                Nan   \n",
       "3                                      Bidirectional   \n",
       "4                                 Glycogen synthesis   \n",
       "\n",
       "                                gpt4_answer  \n",
       "0                Faster impulse conduction.  \n",
       "1  They are impermeable to large molecules.  \n",
       "2        Consider prenatal genetic testing.  \n",
       "3    Movement of materials within a neuron.  \n",
       "4                                   Feeding  "
      ]
     },
     "execution_count": 28,
     "metadata": {},
     "output_type": "execute_result"
    }
   ],
   "source": [
    "dataset_test.head(5)"
   ]
  },
  {
   "cell_type": "code",
   "execution_count": 29,
   "metadata": {},
   "outputs": [],
   "source": [
    "\n",
    "dataset_test.to_csv('gpt4_result.csv', index=False)"
   ]
  },
  {
   "cell_type": "code",
   "execution_count": 66,
   "metadata": {},
   "outputs": [],
   "source": [
    "answers = []\n",
    "for question in dataset_test['question']:\n",
    "    answer = Sequence(\"Give me the shortest answer.\"+question)\n",
    "    answers.append(answer)"
   ]
  },
  {
   "cell_type": "code",
   "execution_count": 70,
   "metadata": {},
   "outputs": [
    {
     "name": "stdout",
     "output_type": "stream",
     "text": [
      "precision 0.8872\n",
      "recall 0.90955\n",
      "f1 0.89745\n"
     ]
    }
   ],
   "source": [
    "bertscore = load(\"bertscore\")\n",
    "predictions = answers\n",
    "references = dataset_test['correct_answer']\n",
    "results = bertscore.compute(predictions=predictions, references=references, model_type = \"distilbert-base-uncased\")\n",
    "print('precision', round(np.mean(list(results['precision'])),5))\n",
    "print('recall', round(np.mean(list(results['recall'])),5))\n",
    "print('f1', round(np.mean(list(results['f1'])),5))"
   ]
  },
  {
   "cell_type": "code",
   "execution_count": 75,
   "metadata": {},
   "outputs": [],
   "source": [
    "answers = []\n",
    "for question in dataset_test['question']:\n",
    "    answer = Sequence(\"Give me the shortest answer.\"+question)\n",
    "    answers.append(answer)"
   ]
  },
  {
   "cell_type": "code",
   "execution_count": 76,
   "metadata": {},
   "outputs": [
    {
     "name": "stdout",
     "output_type": "stream",
     "text": [
      "precision 0.89466\n",
      "recall 0.91354\n",
      "f1 0.90323\n"
     ]
    }
   ],
   "source": [
    "bertscore = load(\"bertscore\")\n",
    "predictions = answers\n",
    "references = dataset_test['correct_answer']\n",
    "results = bertscore.compute(predictions=predictions, references=references, model_type = \"distilbert-base-uncased\")\n",
    "print('precision', round(np.mean(list(results['precision'])),5))\n",
    "print('recall', round(np.mean(list(results['recall'])),5))\n",
    "print('f1', round(np.mean(list(results['f1'])),5))"
   ]
  },
  {
   "cell_type": "code",
   "execution_count": 77,
   "metadata": {},
   "outputs": [],
   "source": [
    "answers = []\n",
    "for question in dataset_test['question']:\n",
    "    answer = Sequence(\"Give me the shortest answer.\"+question)\n",
    "    answers.append(answer)"
   ]
  },
  {
   "cell_type": "code",
   "execution_count": 78,
   "metadata": {},
   "outputs": [
    {
     "name": "stdout",
     "output_type": "stream",
     "text": [
      "precision 0.89273\n",
      "recall 0.91234\n",
      "f1 0.90162\n"
     ]
    }
   ],
   "source": [
    "bertscore = load(\"bertscore\")\n",
    "predictions = answers\n",
    "references = dataset_test['correct_answer']\n",
    "results = bertscore.compute(predictions=predictions, references=references, model_type = \"distilbert-base-uncased\")\n",
    "print('precision', round(np.mean(list(results['precision'])),5))\n",
    "print('recall', round(np.mean(list(results['recall'])),5))\n",
    "print('f1', round(np.mean(list(results['f1'])),5))"
   ]
  },
  {
   "cell_type": "code",
   "execution_count": null,
   "metadata": {},
   "outputs": [],
   "source": []
  }
 ],
 "metadata": {
  "kernelspec": {
   "display_name": "Python 3 (ipykernel)",
   "language": "python",
   "name": "python3"
  },
  "language_info": {
   "codemirror_mode": {
    "name": "ipython",
    "version": 3
   },
   "file_extension": ".py",
   "mimetype": "text/x-python",
   "name": "python",
   "nbconvert_exporter": "python",
   "pygments_lexer": "ipython3",
   "version": "3.12.2"
  }
 },
 "nbformat": 4,
 "nbformat_minor": 4
}
