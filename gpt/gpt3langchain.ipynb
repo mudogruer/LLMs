{
 "cells": [
  {
   "cell_type": "code",
   "execution_count": 1,
   "metadata": {},
   "outputs": [
    {
     "data": {
      "text/plain": [
       "True"
      ]
     },
     "execution_count": 1,
     "metadata": {},
     "output_type": "execute_result"
    }
   ],
   "source": [
    "from dotenv import load_dotenv\n",
    "\n",
    "load_dotenv()"
   ]
  },
  {
   "cell_type": "code",
   "execution_count": 2,
   "metadata": {},
   "outputs": [
    {
     "name": "stdout",
     "output_type": "stream",
     "text": [
      "Note: you may need to restart the kernel to use updated packages.\n"
     ]
    }
   ],
   "source": [
    "pip install -q evaluate"
   ]
  },
  {
   "cell_type": "code",
   "execution_count": 3,
   "metadata": {},
   "outputs": [],
   "source": [
    "from langchain_openai import ChatOpenAI\n",
    "\n",
    "llm = ChatOpenAI(\n",
    "\n",
    "    model_name= \"gpt-3.5-turbo\",\n",
    "    temperature= 0.2,\n",
    "    max_tokens= 30\n",
    ")"
   ]
  },
  {
   "cell_type": "code",
   "execution_count": 4,
   "metadata": {},
   "outputs": [
    {
     "name": "stdout",
     "output_type": "stream",
     "text": [
      "content='The capital of Turkey is Ankara.'\n"
     ]
    }
   ],
   "source": [
    "text = \"what is the capital of Turkey\"\n",
    "\n",
    "response = llm.invoke(text)\n",
    "\n",
    "print(response)"
   ]
  },
  {
   "cell_type": "code",
   "execution_count": 5,
   "metadata": {},
   "outputs": [
    {
     "name": "stdout",
     "output_type": "stream",
     "text": [
      "Note: you may need to restart the kernel to use updated packages.\n"
     ]
    }
   ],
   "source": [
    "pip install -q -U datasets"
   ]
  },
  {
   "cell_type": "code",
   "execution_count": 6,
   "metadata": {},
   "outputs": [
    {
     "name": "stdout",
     "output_type": "stream",
     "text": [
      "Note: you may need to restart the kernel to use updated packages.\n"
     ]
    }
   ],
   "source": [
    "pip install -q bert-score"
   ]
  },
  {
   "cell_type": "code",
   "execution_count": 7,
   "metadata": {},
   "outputs": [
    {
     "name": "stderr",
     "output_type": "stream",
     "text": [
      "c:\\Users\\musta\\anaconda3\\envs\\langchain\\Lib\\site-packages\\tqdm\\auto.py:21: TqdmWarning: IProgress not found. Please update jupyter and ipywidgets. See https://ipywidgets.readthedocs.io/en/stable/user_install.html\n",
      "  from .autonotebook import tqdm as notebook_tqdm\n"
     ]
    },
    {
     "data": {
      "text/plain": [
       "'2.17.1'"
      ]
     },
     "execution_count": 7,
     "metadata": {},
     "output_type": "execute_result"
    }
   ],
   "source": [
    "import datasets\n",
    "\n",
    "datasets.__version__"
   ]
  },
  {
   "cell_type": "code",
   "execution_count": 8,
   "metadata": {},
   "outputs": [],
   "source": [
    "prompt = \"what is the heaviest element\"\n",
    "\n",
    "sequence = llm.invoke(prompt)"
   ]
  },
  {
   "cell_type": "code",
   "execution_count": 9,
   "metadata": {},
   "outputs": [
    {
     "data": {
      "text/plain": [
       "'The heaviest naturally occurring element is uranium, with an atomic number of 92. However, the heaviest element overall is oganesson, with'"
      ]
     },
     "execution_count": 9,
     "metadata": {},
     "output_type": "execute_result"
    }
   ],
   "source": [
    "sequence.content"
   ]
  },
  {
   "cell_type": "code",
   "execution_count": 10,
   "metadata": {},
   "outputs": [],
   "source": [
    "def Sequence(prompt):\n",
    "    sequence = llm.invoke(prompt)\n",
    "    return sequence.content"
   ]
  },
  {
   "cell_type": "code",
   "execution_count": 11,
   "metadata": {},
   "outputs": [
    {
     "name": "stdout",
     "output_type": "stream",
     "text": [
      "The symbol of iron is Fe.\n"
     ]
    }
   ],
   "source": [
    "prompt = \"What is the symbol of iron?\"\n",
    "\n",
    "print(Sequence(prompt))"
   ]
  },
  {
   "cell_type": "code",
   "execution_count": 12,
   "metadata": {},
   "outputs": [
    {
     "data": {
      "text/plain": [
       "Dataset({\n",
       "    features: ['question', 'distractor3', 'distractor1', 'distractor2', 'correct_answer', 'support'],\n",
       "    num_rows: 200\n",
       "})"
      ]
     },
     "execution_count": 12,
     "metadata": {},
     "output_type": "execute_result"
    }
   ],
   "source": [
    "from datasets import load_dataset\n",
    "dataset_test = load_dataset(\"sciq\", split = 'test[:20%]')\n",
    "dataset_test\n"
   ]
  },
  {
   "cell_type": "code",
   "execution_count": 44,
   "metadata": {},
   "outputs": [],
   "source": [
    "answers = []\n",
    "for question in dataset_test['question']:\n",
    "    answer = Sequence(question)\n",
    "    answers.append(answer)"
   ]
  },
  {
   "cell_type": "code",
   "execution_count": 42,
   "metadata": {},
   "outputs": [
    {
     "data": {
      "text/plain": [
       "['Oxidizing agents',\n",
       " 'The term in biotechnology that means a genetically exact copy of an organism is \"clone.\"',\n",
       " 'A vertebral column or backbone.',\n",
       " 'Elevation',\n",
       " 'Tree rings, pollen records, sediment cores, and coral reefs can also indicate environmental conditions at the time of their creation.',\n",
       " '1. Auxins: Control cell elongation, apical dominance, and root development.\\n2. Gibberellins: Promote stem elongation',\n",
       " 'Gametes, which are sex cells (sperm and egg cells).',\n",
       " 'Broadleaf deciduous trees are dominant in temperate forests. These trees shed their leaves in the fall and grow new ones in the spring. Examples of',\n",
       " 'Long-chain hydrocarbons typically have high viscosity.',\n",
       " 'ionic lattice.']"
      ]
     },
     "execution_count": 42,
     "metadata": {},
     "output_type": "execute_result"
    }
   ],
   "source": [
    "answers"
   ]
  },
  {
   "cell_type": "code",
   "execution_count": 15,
   "metadata": {},
   "outputs": [],
   "source": [
    "from evaluate import load\n",
    "import numpy as np\n",
    "from bert_score import score"
   ]
  },
  {
   "cell_type": "markdown",
   "metadata": {},
   "source": [
    "# First question-answering for 200 of test data"
   ]
  },
  {
   "cell_type": "code",
   "execution_count": 13,
   "metadata": {},
   "outputs": [],
   "source": [
    "answers = []\n",
    "for question in dataset_test['question']:\n",
    "    answer = Sequence(\"Give me the shortest answer.\"+question)\n",
    "    answers.append(answer)"
   ]
  },
  {
   "cell_type": "code",
   "execution_count": 16,
   "metadata": {},
   "outputs": [
    {
     "name": "stdout",
     "output_type": "stream",
     "text": [
      "precision 0.85105\n",
      "recall 0.88412\n",
      "f1 0.86641\n"
     ]
    }
   ],
   "source": [
    "bertscore = load(\"bertscore\")\n",
    "predictions = answers\n",
    "references = dataset_test['correct_answer']\n",
    "results = bertscore.compute(predictions=predictions, references=references, model_type = \"distilbert-base-uncased\")\n",
    "print('precision', round(np.mean(list(results['precision'])),5))\n",
    "print('recall', round(np.mean(list(results['recall'])),5))\n",
    "print('f1', round(np.mean(list(results['f1'])),5))"
   ]
  },
  {
   "cell_type": "markdown",
   "metadata": {},
   "source": [
    "# Second question-answering for 200 of test data"
   ]
  },
  {
   "cell_type": "code",
   "execution_count": 17,
   "metadata": {},
   "outputs": [],
   "source": [
    "answers = []\n",
    "for question in dataset_test['question']:\n",
    "    answer = Sequence(\"Give me the shortest answer.\"+question)\n",
    "    answers.append(answer)"
   ]
  },
  {
   "cell_type": "code",
   "execution_count": 18,
   "metadata": {},
   "outputs": [
    {
     "name": "stdout",
     "output_type": "stream",
     "text": [
      "precision 0.85179\n",
      "recall 0.88447\n",
      "f1 0.86685\n"
     ]
    }
   ],
   "source": [
    "bertscore = load(\"bertscore\")\n",
    "predictions = answers\n",
    "references = dataset_test['correct_answer']\n",
    "results = bertscore.compute(predictions=predictions, references=references, model_type = \"distilbert-base-uncased\")\n",
    "print('precision', round(np.mean(list(results['precision'])),5))\n",
    "print('recall', round(np.mean(list(results['recall'])),5))\n",
    "print('f1', round(np.mean(list(results['f1'])),5))"
   ]
  },
  {
   "cell_type": "markdown",
   "metadata": {},
   "source": [
    "# Third question-answering for 200 of test data"
   ]
  },
  {
   "cell_type": "code",
   "execution_count": 19,
   "metadata": {},
   "outputs": [],
   "source": [
    "answers = []\n",
    "for question in dataset_test['question']:\n",
    "    answer = Sequence(\"Give me the shortest answer.\"+question)\n",
    "    answers.append(answer)"
   ]
  },
  {
   "cell_type": "code",
   "execution_count": 20,
   "metadata": {},
   "outputs": [
    {
     "name": "stdout",
     "output_type": "stream",
     "text": [
      "precision 0.85069\n",
      "recall 0.88594\n",
      "f1 0.86698\n"
     ]
    }
   ],
   "source": [
    "bertscore = load(\"bertscore\")\n",
    "predictions = answers\n",
    "references = dataset_test['correct_answer']\n",
    "results = bertscore.compute(predictions=predictions, references=references, model_type = \"distilbert-base-uncased\")\n",
    "print('precision', round(np.mean(list(results['precision'])),5))\n",
    "print('recall', round(np.mean(list(results['recall'])),5))\n",
    "print('f1', round(np.mean(list(results['f1'])),5))"
   ]
  },
  {
   "cell_type": "code",
   "execution_count": null,
   "metadata": {},
   "outputs": [],
   "source": []
  }
 ],
 "metadata": {
  "kernelspec": {
   "display_name": "Python 3 (ipykernel)",
   "language": "python",
   "name": "python3"
  },
  "language_info": {
   "codemirror_mode": {
    "name": "ipython",
    "version": 3
   },
   "file_extension": ".py",
   "mimetype": "text/x-python",
   "name": "python",
   "nbconvert_exporter": "python",
   "pygments_lexer": "ipython3",
   "version": "3.11.5"
  }
 },
 "nbformat": 4,
 "nbformat_minor": 4
}
